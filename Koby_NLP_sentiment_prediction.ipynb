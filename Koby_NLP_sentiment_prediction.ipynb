{
 "cells": [
  {
   "cell_type": "code",
   "execution_count": 1,
   "id": "0792c091",
   "metadata": {},
   "outputs": [],
   "source": [
    "import pandas as pd\n",
    "import numpy as np\n",
    "import re\n",
    "import nltk\n",
    "from nltk.corpus import stopwords"
   ]
  },
  {
   "cell_type": "code",
   "execution_count": 2,
   "id": "f2664b8d",
   "metadata": {
    "scrolled": false
   },
   "outputs": [
    {
     "name": "stdout",
     "output_type": "stream",
     "text": [
      "WARNING:tensorflow:Please fix your imports. Module tensorflow.python.training.tracking.data_structures has been moved to tensorflow.python.trackable.data_structures. The old module will be deleted in version 2.11.\n"
     ]
    }
   ],
   "source": [
    "import os\n",
    "import shutil\n",
    "import tensorflow as tf\n",
    "import tensorflow_hub as hub\n",
    "import tensorflow_text as text\n",
    "from sklearn.model_selection import train_test_split\n",
    "from keras.preprocessing.text import Tokenizer\n",
    "bert_preprocess = hub.KerasLayer(\"https://tfhub.dev/tensorflow/bert_en_uncased_preprocess/3\")\n",
    "bert_encoder = hub.KerasLayer(\"https://tfhub.dev/tensorflow/bert_en_uncased_L-12_H-768_A-12/4\")"
   ]
  },
  {
   "cell_type": "code",
   "execution_count": 3,
   "id": "c9f40455",
   "metadata": {
    "scrolled": false
   },
   "outputs": [
    {
     "data": {
      "text/plain": [
       "<AxesSubplot:xlabel='Sentiment', ylabel='count'>"
      ]
     },
     "execution_count": 3,
     "metadata": {},
     "output_type": "execute_result"
    },
    {
     "data": {
      "image/png": "[encoded data removed]",
      "text/plain": [
       "<Figure size 432x288 with 1 Axes>"
      ]
     },
     "metadata": {
      "needs_background": "light"
     },
     "output_type": "display_data"
    }
   ],
   "source": [
    "headlines = pd.read_csv('stock_data.csv', sep=',')\n",
    "\n",
    "import seaborn as sns\n",
    "sns.countplot(x='Sentiment', data=headlines)"
   ]
  },
  {
   "cell_type": "code",
   "execution_count": 7,
   "id": "8627748b",
   "metadata": {},
   "outputs": [],
   "source": [
    "# some data cleaning to change class label \"-1\" to become \"0\": \n",
    "# improves training accuracy vastly from average 0.02 to average 0.99\n",
    "headlines['Category']=headlines['Sentiment'].apply(lambda x: 0 if x== \"-1\" else 1)"
   ]
  },
  {
   "cell_type": "code",
   "execution_count": 8,
   "id": "3f30c118",
   "metadata": {},
   "outputs": [],
   "source": [
    "X_train, X_test, y_train, y_test = train_test_split(headlines['Text'], headlines['Category'], stratify = headlines['Category'], random_state=45)"
   ]
  },
  {
   "cell_type": "code",
   "execution_count": 9,
   "id": "977401bb",
   "metadata": {},
   "outputs": [],
   "source": [
    "# simple network combining BERT layers with dropout and dense from keras to improve speed \n",
    "# (requires much lesser number of epochs: only 5) while having accuracy\n",
    "# bert layers\n",
    "text_input = tf.keras.layers.Input(shape=(), dtype=tf.string, name='text')\n",
    "preprocessed_text = bert_preprocess(text_input)\n",
    "outputs = bert_encoder(preprocessed_text)\n",
    "# neural network of dropout and dense (LSTM inspiration)\n",
    "l = tf.keras.layers.Dropout(0.1, name=\"dropout\")(outputs['pooled_output'])\n",
    "l = tf.keras.layers.Dense(1, activation='sigmoid', name=\"output\")(l)\n",
    "model = tf.keras.Model(inputs=[text_input], outputs = [l])"
   ]
  },
  {
   "cell_type": "code",
   "execution_count": 11,
   "id": "206ac3c6",
   "metadata": {},
   "outputs": [
    {
     "name": "stdout",
     "output_type": "stream",
     "text": [
      "Epoch 1/5\n",
      "34/34 [==============================] - 539s 16s/step - loss: 0.0011 - accuracy: 0.9998\n",
      "Epoch 2/5\n",
      "34/34 [==============================] - 587s 17s/step - loss: 1.7189e-04 - accuracy: 1.0000\n",
      "Epoch 3/5\n",
      "34/34 [==============================] - 590s 17s/step - loss: 9.4997e-05 - accuracy: 1.0000\n",
      "Epoch 4/5\n",
      "34/34 [==============================] - 577s 17s/step - loss: 6.8457e-05 - accuracy: 1.0000\n",
      "Epoch 5/5\n",
      "34/34 [==============================] - 593s 17s/step - loss: 4.0707e-05 - accuracy: 1.0000\n"
     ]
    },
    {
     "data": {
      "text/plain": [
       "<keras.callbacks.History at 0x1bd46b51cd0>"
      ]
     },
     "execution_count": 11,
     "metadata": {},
     "output_type": "execute_result"
    }
   ],
   "source": [
    "model.compile(optimizer='adam', loss='binary_crossentropy', metrics=['accuracy'])\n",
    "model.fit(X_train, y_train, epochs=5, batch_size = 128)"
   ]
  },
  {
   "cell_type": "code",
   "execution_count": 12,
   "id": "f6f10afa",
   "metadata": {},
   "outputs": [
    {
     "name": "stdout",
     "output_type": "stream",
     "text": [
      "46/46 [==============================] - 191s 4s/step\n",
      "[0.99999386 0.9999934  0.99978757 ... 0.9999847  0.9999981  0.9999948 ]\n",
      "[1 1 1 ... 1 1 1]\n"
     ]
    }
   ],
   "source": [
    "y_predicted = model.predict(X_test)\n",
    "y_predicted = y_predicted.flatten()\n",
    "# there are only 2 classes, the percentages reflect the degree of confidence of classification between class label \"0\" (original\n",
    "# label \"-1\") and label \"1\"\n",
    "print(y_predicted)\n",
    "\n",
    "# binary classification into either of the 2 classes\n",
    "y_predicted_binary = np.where(y_predicted >= 0.5, 1, -1)\n",
    "print(y_predicted_binary)"
   ]
  },
  {
   "cell_type": "code",
   "execution_count": 13,
   "id": "c8319eb2",
   "metadata": {},
   "outputs": [
    {
     "name": "stdout",
     "output_type": "stream",
     "text": [
      "(1448,)\n"
     ]
    }
   ],
   "source": [
    "print(y_predicted_binary.shape)"
   ]
  },
  {
   "cell_type": "code",
   "execution_count": 14,
   "id": "37c5ca21",
   "metadata": {},
   "outputs": [
    {
     "name": "stdout",
     "output_type": "stream",
     "text": [
      "(1448,)\n"
     ]
    }
   ],
   "source": [
    "print(y_test.shape)"
   ]
  },
  {
   "cell_type": "code",
   "execution_count": 15,
   "id": "e0ba1e65",
   "metadata": {},
   "outputs": [
    {
     "name": "stdout",
     "output_type": "stream",
     "text": [
      "1.0\n"
     ]
    }
   ],
   "source": [
    "import sklearn as sk\n",
    "\n",
    "test_acc = sk.metrics.accuracy_score(np.array(y_predicted_binary)[:],\n",
    "                                    np.array(y_test)[:])\n",
    "print(test_acc)"
   ]
  },
  {
   "cell_type": "code",
   "execution_count": 16,
   "id": "7d048f4e",
   "metadata": {},
   "outputs": [
    {
     "name": "stdout",
     "output_type": "stream",
     "text": [
      "46/46 [==============================] - 178s 4s/step - loss: 3.8858e-05 - accuracy: 1.0000\n"
     ]
    }
   ],
   "source": [
    "score_test = model.evaluate(X_test, y_test, verbose=1)"
   ]
  },
  {
   "cell_type": "code",
   "execution_count": 17,
   "id": "7e9e73e7",
   "metadata": {},
   "outputs": [
    {
     "name": "stdout",
     "output_type": "stream",
     "text": [
      "Test Score: 3.885760088451207e-05\n",
      "Test Accuracy: 1.0\n"
     ]
    }
   ],
   "source": [
    "print(\"Test Score:\", score_test[0])\n",
    "print(\"Test Accuracy:\", score_test[1])"
   ]
  },
  {
   "cell_type": "code",
   "execution_count": null,
   "id": "a1260228",
   "metadata": {},
   "outputs": [],
   "source": []
  }
 ],
 "metadata": {
  "kernelspec": {
   "display_name": "Python 3 (ipykernel)",
   "language": "python",
   "name": "python3"
  },
  "language_info": {
   "codemirror_mode": {
    "name": "ipython",
    "version": 3
   },
   "file_extension": ".py",
   "mimetype": "text/x-python",
   "name": "python",
   "nbconvert_exporter": "python",
   "pygments_lexer": "ipython3",
   "version": "3.9.12"
  }
 },
 "nbformat": 4,
 "nbformat_minor": 5
}
